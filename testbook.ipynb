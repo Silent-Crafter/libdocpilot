{
 "cells": [
  {
   "metadata": {
    "ExecuteTime": {
     "end_time": "2025-01-13T07:38:54.782766Z",
     "start_time": "2025-01-13T07:38:54.780373Z"
    }
   },
   "cell_type": "code",
   "source": [
    "from typing import List, Optional\n",
    "def read_all_pages_into_lines(file_prefix: str, file_suffix: str, doc_dir: Optional[str] = \"data\") -> List[List[str]]:\n",
    "    lines = []\n",
    "\n",
    "    for i in range(1, 6):\n",
    "        with open(f\"{doc_dir}/{file_prefix}{i}.{file_suffix}\", \"r\") as f:\n",
    "            lines.append(f.readlines())\n",
    "\n",
    "    return lines"
   ],
   "id": "955420ac4ce95720",
   "outputs": [],
   "execution_count": 90
  },
  {
   "metadata": {
    "ExecuteTime": {
     "end_time": "2025-01-13T07:38:57.962622Z",
     "start_time": "2025-01-13T07:38:57.959152Z"
    }
   },
   "cell_type": "code",
   "source": [
    "import torch\n",
    "from torch.types import Tensor\n",
    "from llama_index.core.embeddings import BaseEmbedding\n",
    "from llama_index.embeddings.huggingface import HuggingFaceEmbedding\n",
    "from llama_index.embeddings.ollama import OllamaEmbedding\n",
    "from typing import Callable, Optional\n",
    "\n",
    "def get_embedder(model_name: str, **kwargs) -> Callable[[str], Tensor]:\n",
    "    ollama_config = kwargs.pop(\"ollama_config\", {\n",
    "        \"base_url\": \"http://192.168.0.124:11434\",\n",
    "    })\n",
    "    hf_config = kwargs.pop(\"huggingface_config\", {\n",
    "        \"trust_remote_code\": True,\n",
    "        \"cache_folder\": \"models/\",\n",
    "    })\n",
    "\n",
    "    provider_map = {\n",
    "        \"ollama\": OllamaEmbedding,\n",
    "        \"hf\": HuggingFaceEmbedding,\n",
    "    }\n",
    "\n",
    "    config_map = {\n",
    "        \"ollama\": ollama_config,\n",
    "        \"hf\": hf_config,\n",
    "    }\n",
    "\n",
    "    provider, *model = model_name.split(\"/\")\n",
    "    model = \"/\".join(model)\n",
    "\n",
    "    embedder: BaseEmbedding = provider_map[provider](model_name=model, **config_map[provider], **kwargs)\n",
    "\n",
    "    def embed(x1: str) -> Tensor:\n",
    "        return torch.asarray(embedder.get_text_embedding(x1))\n",
    "\n",
    "    return embed\n",
    "\n",
    "def compute_similiarity(x1: Tensor, x2: Tensor, dim: Optional[int] = 0, eps: Optional[float] = 1e-4) -> Tensor:\n",
    "    return torch.nn.CosineSimilarity(dim=dim, eps=eps).forward(x1, x2)"
   ],
   "id": "40286446fe48f892",
   "outputs": [],
   "execution_count": 92
  },
  {
   "metadata": {
    "ExecuteTime": {
     "end_time": "2025-01-13T08:50:21.384128Z",
     "start_time": "2025-01-13T08:50:21.355048Z"
    }
   },
   "cell_type": "code",
   "source": "lines = read_all_pages_into_lines(\"page\", \"txt\")\n",
   "id": "d28931a1d5c76281",
   "outputs": [],
   "execution_count": 120
  },
  {
   "metadata": {
    "ExecuteTime": {
     "end_time": "2025-01-13T08:23:53.504916Z",
     "start_time": "2025-01-13T08:23:49.096638Z"
    }
   },
   "cell_type": "code",
   "source": "embed = get_embedder(\"hf/ibm-granite/granite-embedding-278m-multilingual\")",
   "id": "570e90358a63a6f9",
   "outputs": [],
   "execution_count": 109
  },
  {
   "metadata": {
    "ExecuteTime": {
     "end_time": "2025-01-13T08:59:04.132274Z",
     "start_time": "2025-01-13T08:58:50.807751Z"
    }
   },
   "cell_type": "code",
   "source": [
    "from collections import defaultdict\n",
    "from time import sleep\n",
    "\n",
    "def compute_embedding_matrix(matrix: Tensor, embeddings: List[Tensor]) -> Tensor:\n",
    "    for i, e1 in enumerate(embeddings):\n",
    "        for j, e2 in enumerate(embeddings):\n",
    "            if i == j:\n",
    "                ans = torch.tensor(1.0, dtype=torch.float)\n",
    "            else:\n",
    "                ans = compute_similiarity(e1, e2) if not embedding_matrix[j, i] else embedding_matrix[j, i]\n",
    "            embedding_matrix[i, j] = ans\n",
    "\n",
    "    return embedding_matrix\n",
    "\n",
    "\n",
    "new_lines = [\n",
    "    [line for line in page if line.strip()] for page in lines\n",
    "]\n",
    "\n",
    "print(new_lines[0][10], new_lines[-2][10])\n",
    "sleep(10)\n",
    "\n",
    "with open(\"old_pages\", \"w\") as f:\n",
    "    for line in new_lines:\n",
    "        f.writelines(line)\n",
    "        f.write(\"\\n\" + (\"=\"*100) + \"\\n\")\n",
    "\n",
    "no_of_pages = len(new_lines)\n",
    "new_pages: List[List[str]] = [[] for _ in range(no_of_pages)]\n",
    "lens = list(map(len, new_lines))\n",
    "max_len = max(lens)\n",
    "\n",
    "counter = 0\n",
    "while counter < max_len:\n",
    "    embeddings: List[Tensor] = []\n",
    "    lines_ = []\n",
    "    for i in range(no_of_pages):\n",
    "        if counter < lens[i]:\n",
    "            line = new_lines[i][counter]\n",
    "        else:\n",
    "            line = ''\n",
    "\n",
    "        lines_.append(line)\n",
    "\n",
    "    embeddings.extend([embed(line) for line in lines_])\n",
    "\n",
    "    embedding_matrix = torch.zeros(no_of_pages, no_of_pages)\n",
    "    embedding_matrix = compute_embedding_matrix(embedding_matrix, embeddings)\n",
    "\n",
    "    # Remove similar lines and store the results page by page\n",
    "    _discard_index = set(\n",
    "        j+i+1\n",
    "        for i, e1 in enumerate(embedding_matrix)\n",
    "        for j, e2 in enumerate(e1[i+1:])\n",
    "        if e2 > 0.86\n",
    "    )\n",
    "\n",
    "    # print(*lines_)\n",
    "    # print(embedding_matrix)\n",
    "    # print(_discard_index)\n",
    "    #\n",
    "    # print()\n",
    "\n",
    "    for i in range(no_of_pages):\n",
    "        if i not in _discard_index:\n",
    "            new_pages[i].append(lines_[i])\n",
    "\n",
    "    counter += 1"
   ],
   "id": "7a60b3c1dcb1494b",
   "outputs": [
    {
     "name": "stdout",
     "output_type": "stream",
     "text": [
      "Revision Page Numbers of\n",
      "                                                                                                                                                   Dawalkar, Yogesh Patil, Shailesh Bairagi, Sandeep Khalkar, Pankaj Phalak, Kartik                                Customer Engineering Approval Date (if Req'd): Nil                                                        Symbol                      Meaning\n",
      "\n"
     ]
    }
   ],
   "execution_count": 137
  },
  {
   "metadata": {
    "ExecuteTime": {
     "end_time": "2025-01-13T08:59:14.528583Z",
     "start_time": "2025-01-13T08:59:14.525346Z"
    }
   },
   "cell_type": "code",
   "source": [
    "with open(\"new_pages.txt\", \"w\") as f:\n",
    "    for line in new_pages:\n",
    "        f.write(\"\".join(line))\n",
    "        f.write(\"\\n\" + (\"=\"*100) + \"\\n\")"
   ],
   "id": "71b661895268a29a",
   "outputs": [],
   "execution_count": 138
  },
  {
   "metadata": {
    "ExecuteTime": {
     "end_time": "2025-01-13T09:04:15.394100Z",
     "start_time": "2025-01-13T09:04:15.392191Z"
    }
   },
   "cell_type": "code",
   "source": [
    "import re\n",
    "page = new_pages[1]\n",
    "\n",
    "resp = re.findall(\"  +\", \"\".join(page))"
   ],
   "id": "b288225fd822d94",
   "outputs": [],
   "execution_count": 144
  },
  {
   "metadata": {
    "ExecuteTime": {
     "end_time": "2025-01-13T09:04:43.855090Z",
     "start_time": "2025-01-13T09:04:43.852718Z"
    }
   },
   "cell_type": "code",
   "source": "min_spaces = min(map(len, resp))",
   "id": "e103b3bb38e4320e",
   "outputs": [],
   "execution_count": 145
  },
  {
   "metadata": {
    "ExecuteTime": {
     "end_time": "2025-01-13T09:10:11.138673Z",
     "start_time": "2025-01-13T09:10:11.135393Z"
    }
   },
   "cell_type": "code",
   "source": [
    "page = \"\".join(page)\n",
    "page = re.sub(r\" {\"+f\"{min_spaces}\"+r\"}\", \"  \", \"\".join(page))\n",
    "\n",
    "with open(\"page.txt\", \"w\") as f:\n",
    "    f.write(page)"
   ],
   "id": "cf1eeb4479a69a9",
   "outputs": [],
   "execution_count": 151
  }
 ],
 "metadata": {
  "kernelspec": {
   "display_name": "Python 3",
   "language": "python",
   "name": "python3"
  },
  "language_info": {
   "codemirror_mode": {
    "name": "ipython",
    "version": 2
   },
   "file_extension": ".py",
   "mimetype": "text/x-python",
   "name": "python",
   "nbconvert_exporter": "python",
   "pygments_lexer": "ipython2",
   "version": "2.7.6"
  }
 },
 "nbformat": 4,
 "nbformat_minor": 5
}
