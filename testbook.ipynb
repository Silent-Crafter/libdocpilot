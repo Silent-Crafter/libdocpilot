{
 "cells": [
  {
   "metadata": {
    "ExecuteTime": {
     "end_time": "2025-01-10T12:10:48.221743Z",
     "start_time": "2025-01-10T12:10:48.219436Z"
    }
   },
   "cell_type": "code",
   "source": [
    "from typing import List, Optional\n",
    "\n",
    "def read_all_pages_into_lines(file_prefix: str, file_suffix: str, doc_dir: Optional[str] = \"data\") -> List[List[str]]:\n",
    "    lines = []\n",
    "\n",
    "    for i in range(1, 6):\n",
    "        with open(f\"{doc_dir}/{file_prefix}{i}.{file_suffix}\", \"r\") as f:\n",
    "            lines.append(f.readlines())\n",
    "\n",
    "    return lines"
   ],
   "id": "955420ac4ce95720",
   "outputs": [],
   "execution_count": 226
  },
  {
   "metadata": {
    "ExecuteTime": {
     "end_time": "2025-01-10T12:00:08.218109Z",
     "start_time": "2025-01-10T12:00:08.132281Z"
    }
   },
   "cell_type": "code",
   "source": [
    "import torch\n",
    "from torch.types import Tensor\n",
    "from llama_index.core.embeddings import BaseEmbedding\n",
    "from llama_index.embeddings.huggingface import HuggingFaceEmbedding\n",
    "from llama_index.embeddings.ollama import OllamaEmbedding\n",
    "from typing import Callable, Optional\n",
    "\n",
    "def get_embedder(model_name: str, **kwargs) -> Callable[[str], Tensor]:\n",
    "    ollama_config = kwargs.pop(\"ollama_config\", {\n",
    "        \"base_url\": \"http://192.168.0.124:11434\",\n",
    "    })\n",
    "    hf_config = kwargs.pop(\"huggingface_config\", {\n",
    "        \"trust_remote_code\": True,\n",
    "        \"cache_folder\": \"models/\",\n",
    "    })\n",
    "\n",
    "    provider_map = {\n",
    "        \"ollama\": OllamaEmbedding,\n",
    "        \"hf\": HuggingFaceEmbedding,\n",
    "    }\n",
    "\n",
    "    config_map = {\n",
    "        \"ollama\": ollama_config,\n",
    "        \"hf\": hf_config,\n",
    "    }\n",
    "\n",
    "    provider, *model = model_name.split(\"/\")\n",
    "    model = \"/\".join(model)\n",
    "\n",
    "    embedder: BaseEmbedding = provider_map[provider](model_name=model, **config_map[provider], **kwargs)\n",
    "\n",
    "    def embed(x1: str) -> Tensor:\n",
    "        return torch.asarray(embedder.get_text_embedding(x1))\n",
    "\n",
    "    return embed\n",
    "\n",
    "def compute_similiarity(x1: Tensor, x2: Tensor, dim: Optional[int] = 0, eps: Optional[float] = 1e-4) -> Tensor:\n",
    "    return torch.nn.CosineSimilarity(dim=dim, eps=eps)(x1, x2)"
   ],
   "id": "40286446fe48f892",
   "outputs": [],
   "execution_count": 213
  },
  {
   "metadata": {
    "ExecuteTime": {
     "end_time": "2025-01-10T12:11:02.822106Z",
     "start_time": "2025-01-10T12:11:02.819910Z"
    }
   },
   "cell_type": "code",
   "source": "lines = read_all_pages_into_lines(\"page\", \"txt\")",
   "id": "d28931a1d5c76281",
   "outputs": [],
   "execution_count": 227
  },
  {
   "metadata": {
    "ExecuteTime": {
     "end_time": "2025-01-10T12:00:19.325478Z",
     "start_time": "2025-01-10T12:00:14.177499Z"
    }
   },
   "cell_type": "code",
   "source": "embed = get_embedder(\"hf/ibm-granite/granite-embedding-278m-multilingual\")",
   "id": "570e90358a63a6f9",
   "outputs": [],
   "execution_count": 214
  },
  {
   "metadata": {},
   "cell_type": "code",
   "outputs": [],
   "execution_count": null,
   "source": [
    "embeddings1 = embed(\"Hello world\")\n",
    "embeddings2 = embed(\"hell world\")\n",
    "sim = compute_similiarity(embeddings1, embeddings2)"
   ],
   "id": "68526585d197d080"
  },
  {
   "metadata": {
    "ExecuteTime": {
     "end_time": "2025-01-10T12:29:28.568699Z",
     "start_time": "2025-01-10T12:29:28.507961Z"
    }
   },
   "cell_type": "code",
   "source": [
    "no_of_pages = len(lines)\n",
    "while True:\n",
    "    counter = 24\n",
    "    embeddings = []\n",
    "    lines_ = []\n",
    "    for i in range(no_of_pages):\n",
    "        try:\n",
    "            line = lines[i][counter]\n",
    "        except IndexError:\n",
    "            line = ''\n",
    "\n",
    "        lines_.append(line)\n",
    "\n",
    "    embeddings.extend([embed(line) for line in lines_])\n",
    "\n",
    "    embedding_matrix = torch.zeros(no_of_pages, no_of_pages)\n",
    "    for i, embedding in enumerate(embeddings):\n",
    "        for j, embedding2 in enumerate(embeddings):\n",
    "            ans = compute_similiarity(embeddings[i], embeddings[j])\n",
    "            embedding_matrix[i, j] = ans\n",
    "\n",
    "    counter += 1\n",
    "    break"
   ],
   "id": "7a60b3c1dcb1494b",
   "outputs": [],
   "execution_count": 249
  },
  {
   "metadata": {
    "ExecuteTime": {
     "end_time": "2025-01-10T12:29:30.999917Z",
     "start_time": "2025-01-10T12:29:30.997335Z"
    }
   },
   "cell_type": "code",
   "source": "embedding_matrix",
   "id": "da2ebf31d629532f",
   "outputs": [
    {
     "data": {
      "text/plain": [
       "tensor([[1.0000, 0.5712, 1.0000, 0.5173, 0.5173],\n",
       "        [0.5712, 1.0000, 0.5712, 0.4912, 0.4912],\n",
       "        [1.0000, 0.5712, 1.0000, 0.5173, 0.5173],\n",
       "        [0.5173, 0.4912, 0.5173, 1.0000, 1.0000],\n",
       "        [0.5173, 0.4912, 0.5173, 1.0000, 1.0000]])"
      ]
     },
     "execution_count": 250,
     "metadata": {},
     "output_type": "execute_result"
    }
   ],
   "execution_count": 250
  },
  {
   "metadata": {
    "ExecuteTime": {
     "end_time": "2025-01-10T12:29:34.446667Z",
     "start_time": "2025-01-10T12:29:34.444463Z"
    }
   },
   "cell_type": "code",
   "source": "lines_",
   "id": "c9a15896b500212f",
   "outputs": [
    {
     "data": {
      "text/plain": [
       "['Number revised contents\\n',\n",
       " '15       All pages                                                                        Cleaning of rollers to avoid scratches on film                 June 30, 2014\\n',\n",
       " 'Number revised contents\\n',\n",
       " 'h Dharkar, Naveen\\n',\n",
       " 'h Dharkar, Naveen\\n']"
      ]
     },
     "execution_count": 251,
     "metadata": {},
     "output_type": "execute_result"
    }
   ],
   "execution_count": 251
  }
 ],
 "metadata": {
  "kernelspec": {
   "display_name": "Python 3",
   "language": "python",
   "name": "python3"
  },
  "language_info": {
   "codemirror_mode": {
    "name": "ipython",
    "version": 2
   },
   "file_extension": ".py",
   "mimetype": "text/x-python",
   "name": "python",
   "nbconvert_exporter": "python",
   "pygments_lexer": "ipython2",
   "version": "2.7.6"
  }
 },
 "nbformat": 4,
 "nbformat_minor": 5
}
